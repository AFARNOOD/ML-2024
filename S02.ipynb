{
 "cells": [
  {
   "cell_type": "code",
   "execution_count": 38,
   "id": "4086457f-ad11-47e0-9d46-6dbac68445c9",
   "metadata": {},
   "outputs": [],
   "source": [
    "import pandas as pd\n",
    "import numpy as np"
   ]
  },
  {
   "cell_type": "code",
   "execution_count": 39,
   "id": "d9b761c0-0e17-4942-a808-21e0f15666df",
   "metadata": {},
   "outputs": [],
   "source": [
    "from sklearn.model_selection import train_test_split\n",
    "from sklearn.linear_model import LinearRegression\n",
    "from sklearn.metrics import mean_squared_error"
   ]
  },
  {
   "cell_type": "code",
   "execution_count": 40,
   "id": "dc2fba77-e6bc-4804-9c2d-b30ce231e631",
   "metadata": {},
   "outputs": [],
   "source": [
    "url = 'https://raw.githubusercontent.com/alexeygrigorev/datasets/master/laptops.csv'\n",
    "df = pd.read_csv(url)"
   ]
  },
  {
   "cell_type": "code",
   "execution_count": 41,
   "id": "5c3fa6a1-4367-4fe2-b324-7d20821571ee",
   "metadata": {},
   "outputs": [
    {
     "data": {
      "text/html": [
       "<div>\n",
       "<style scoped>\n",
       "    .dataframe tbody tr th:only-of-type {\n",
       "        vertical-align: middle;\n",
       "    }\n",
       "\n",
       "    .dataframe tbody tr th {\n",
       "        vertical-align: top;\n",
       "    }\n",
       "\n",
       "    .dataframe thead th {\n",
       "        text-align: right;\n",
       "    }\n",
       "</style>\n",
       "<table border=\"1\" class=\"dataframe\">\n",
       "  <thead>\n",
       "    <tr style=\"text-align: right;\">\n",
       "      <th></th>\n",
       "      <th>Laptop</th>\n",
       "      <th>Status</th>\n",
       "      <th>Brand</th>\n",
       "      <th>Model</th>\n",
       "      <th>CPU</th>\n",
       "      <th>RAM</th>\n",
       "      <th>Storage</th>\n",
       "      <th>Storage type</th>\n",
       "      <th>GPU</th>\n",
       "      <th>Screen</th>\n",
       "      <th>Touch</th>\n",
       "      <th>Final Price</th>\n",
       "    </tr>\n",
       "  </thead>\n",
       "  <tbody>\n",
       "    <tr>\n",
       "      <th>0</th>\n",
       "      <td>ASUS ExpertBook B1 B1502CBA-EJ0436X Intel Core...</td>\n",
       "      <td>New</td>\n",
       "      <td>Asus</td>\n",
       "      <td>ExpertBook</td>\n",
       "      <td>Intel Core i5</td>\n",
       "      <td>8</td>\n",
       "      <td>512</td>\n",
       "      <td>SSD</td>\n",
       "      <td>NaN</td>\n",
       "      <td>15.6</td>\n",
       "      <td>No</td>\n",
       "      <td>1009.00</td>\n",
       "    </tr>\n",
       "    <tr>\n",
       "      <th>1</th>\n",
       "      <td>Alurin Go Start Intel Celeron N4020/8GB/256GB ...</td>\n",
       "      <td>New</td>\n",
       "      <td>Alurin</td>\n",
       "      <td>Go</td>\n",
       "      <td>Intel Celeron</td>\n",
       "      <td>8</td>\n",
       "      <td>256</td>\n",
       "      <td>SSD</td>\n",
       "      <td>NaN</td>\n",
       "      <td>15.6</td>\n",
       "      <td>No</td>\n",
       "      <td>299.00</td>\n",
       "    </tr>\n",
       "    <tr>\n",
       "      <th>2</th>\n",
       "      <td>ASUS ExpertBook B1 B1502CBA-EJ0424X Intel Core...</td>\n",
       "      <td>New</td>\n",
       "      <td>Asus</td>\n",
       "      <td>ExpertBook</td>\n",
       "      <td>Intel Core i3</td>\n",
       "      <td>8</td>\n",
       "      <td>256</td>\n",
       "      <td>SSD</td>\n",
       "      <td>NaN</td>\n",
       "      <td>15.6</td>\n",
       "      <td>No</td>\n",
       "      <td>789.00</td>\n",
       "    </tr>\n",
       "    <tr>\n",
       "      <th>3</th>\n",
       "      <td>MSI Katana GF66 12UC-082XES Intel Core i7-1270...</td>\n",
       "      <td>New</td>\n",
       "      <td>MSI</td>\n",
       "      <td>Katana</td>\n",
       "      <td>Intel Core i7</td>\n",
       "      <td>16</td>\n",
       "      <td>1000</td>\n",
       "      <td>SSD</td>\n",
       "      <td>RTX 3050</td>\n",
       "      <td>15.6</td>\n",
       "      <td>No</td>\n",
       "      <td>1199.00</td>\n",
       "    </tr>\n",
       "    <tr>\n",
       "      <th>4</th>\n",
       "      <td>HP 15S-FQ5085NS Intel Core i5-1235U/16GB/512GB...</td>\n",
       "      <td>New</td>\n",
       "      <td>HP</td>\n",
       "      <td>15S</td>\n",
       "      <td>Intel Core i5</td>\n",
       "      <td>16</td>\n",
       "      <td>512</td>\n",
       "      <td>SSD</td>\n",
       "      <td>NaN</td>\n",
       "      <td>15.6</td>\n",
       "      <td>No</td>\n",
       "      <td>669.01</td>\n",
       "    </tr>\n",
       "    <tr>\n",
       "      <th>...</th>\n",
       "      <td>...</td>\n",
       "      <td>...</td>\n",
       "      <td>...</td>\n",
       "      <td>...</td>\n",
       "      <td>...</td>\n",
       "      <td>...</td>\n",
       "      <td>...</td>\n",
       "      <td>...</td>\n",
       "      <td>...</td>\n",
       "      <td>...</td>\n",
       "      <td>...</td>\n",
       "      <td>...</td>\n",
       "    </tr>\n",
       "    <tr>\n",
       "      <th>2155</th>\n",
       "      <td>Razer Blade 17 FHD 360Hz Intel Core i7-11800H/...</td>\n",
       "      <td>Refurbished</td>\n",
       "      <td>Razer</td>\n",
       "      <td>Blade</td>\n",
       "      <td>Intel Core i7</td>\n",
       "      <td>16</td>\n",
       "      <td>1000</td>\n",
       "      <td>SSD</td>\n",
       "      <td>RTX 3060</td>\n",
       "      <td>17.3</td>\n",
       "      <td>No</td>\n",
       "      <td>2699.99</td>\n",
       "    </tr>\n",
       "    <tr>\n",
       "      <th>2156</th>\n",
       "      <td>Razer Blade 17 FHD 360Hz Intel Core i7-11800H/...</td>\n",
       "      <td>Refurbished</td>\n",
       "      <td>Razer</td>\n",
       "      <td>Blade</td>\n",
       "      <td>Intel Core i7</td>\n",
       "      <td>16</td>\n",
       "      <td>1000</td>\n",
       "      <td>SSD</td>\n",
       "      <td>RTX 3070</td>\n",
       "      <td>17.3</td>\n",
       "      <td>No</td>\n",
       "      <td>2899.99</td>\n",
       "    </tr>\n",
       "    <tr>\n",
       "      <th>2157</th>\n",
       "      <td>Razer Blade 17 FHD 360Hz Intel Core i7-11800H/...</td>\n",
       "      <td>Refurbished</td>\n",
       "      <td>Razer</td>\n",
       "      <td>Blade</td>\n",
       "      <td>Intel Core i7</td>\n",
       "      <td>32</td>\n",
       "      <td>1000</td>\n",
       "      <td>SSD</td>\n",
       "      <td>RTX 3080</td>\n",
       "      <td>17.3</td>\n",
       "      <td>No</td>\n",
       "      <td>3399.99</td>\n",
       "    </tr>\n",
       "    <tr>\n",
       "      <th>2158</th>\n",
       "      <td>Razer Book 13 Intel Evo Core i7-1165G7/16GB/1T...</td>\n",
       "      <td>Refurbished</td>\n",
       "      <td>Razer</td>\n",
       "      <td>Book</td>\n",
       "      <td>Intel Evo Core i7</td>\n",
       "      <td>16</td>\n",
       "      <td>1000</td>\n",
       "      <td>SSD</td>\n",
       "      <td>NaN</td>\n",
       "      <td>13.4</td>\n",
       "      <td>Yes</td>\n",
       "      <td>1899.99</td>\n",
       "    </tr>\n",
       "    <tr>\n",
       "      <th>2159</th>\n",
       "      <td>Razer Book FHD+ Intel Evo Core i7-1165G7/16GB/...</td>\n",
       "      <td>Refurbished</td>\n",
       "      <td>Razer</td>\n",
       "      <td>Book</td>\n",
       "      <td>Intel Evo Core i7</td>\n",
       "      <td>16</td>\n",
       "      <td>256</td>\n",
       "      <td>SSD</td>\n",
       "      <td>NaN</td>\n",
       "      <td>13.4</td>\n",
       "      <td>Yes</td>\n",
       "      <td>1699.99</td>\n",
       "    </tr>\n",
       "  </tbody>\n",
       "</table>\n",
       "<p>2160 rows × 12 columns</p>\n",
       "</div>"
      ],
      "text/plain": [
       "                                                 Laptop       Status   Brand  \\\n",
       "0     ASUS ExpertBook B1 B1502CBA-EJ0436X Intel Core...          New    Asus   \n",
       "1     Alurin Go Start Intel Celeron N4020/8GB/256GB ...          New  Alurin   \n",
       "2     ASUS ExpertBook B1 B1502CBA-EJ0424X Intel Core...          New    Asus   \n",
       "3     MSI Katana GF66 12UC-082XES Intel Core i7-1270...          New     MSI   \n",
       "4     HP 15S-FQ5085NS Intel Core i5-1235U/16GB/512GB...          New      HP   \n",
       "...                                                 ...          ...     ...   \n",
       "2155  Razer Blade 17 FHD 360Hz Intel Core i7-11800H/...  Refurbished   Razer   \n",
       "2156  Razer Blade 17 FHD 360Hz Intel Core i7-11800H/...  Refurbished   Razer   \n",
       "2157  Razer Blade 17 FHD 360Hz Intel Core i7-11800H/...  Refurbished   Razer   \n",
       "2158  Razer Book 13 Intel Evo Core i7-1165G7/16GB/1T...  Refurbished   Razer   \n",
       "2159  Razer Book FHD+ Intel Evo Core i7-1165G7/16GB/...  Refurbished   Razer   \n",
       "\n",
       "           Model                CPU  RAM  Storage Storage type       GPU  \\\n",
       "0     ExpertBook      Intel Core i5    8      512          SSD       NaN   \n",
       "1             Go      Intel Celeron    8      256          SSD       NaN   \n",
       "2     ExpertBook      Intel Core i3    8      256          SSD       NaN   \n",
       "3         Katana      Intel Core i7   16     1000          SSD  RTX 3050   \n",
       "4            15S      Intel Core i5   16      512          SSD       NaN   \n",
       "...          ...                ...  ...      ...          ...       ...   \n",
       "2155       Blade      Intel Core i7   16     1000          SSD  RTX 3060   \n",
       "2156       Blade      Intel Core i7   16     1000          SSD  RTX 3070   \n",
       "2157       Blade      Intel Core i7   32     1000          SSD  RTX 3080   \n",
       "2158        Book  Intel Evo Core i7   16     1000          SSD       NaN   \n",
       "2159        Book  Intel Evo Core i7   16      256          SSD       NaN   \n",
       "\n",
       "      Screen Touch  Final Price  \n",
       "0       15.6    No      1009.00  \n",
       "1       15.6    No       299.00  \n",
       "2       15.6    No       789.00  \n",
       "3       15.6    No      1199.00  \n",
       "4       15.6    No       669.01  \n",
       "...      ...   ...          ...  \n",
       "2155    17.3    No      2699.99  \n",
       "2156    17.3    No      2899.99  \n",
       "2157    17.3    No      3399.99  \n",
       "2158    13.4   Yes      1899.99  \n",
       "2159    13.4   Yes      1699.99  \n",
       "\n",
       "[2160 rows x 12 columns]"
      ]
     },
     "execution_count": 41,
     "metadata": {},
     "output_type": "execute_result"
    }
   ],
   "source": [
    "df"
   ]
  },
  {
   "cell_type": "code",
   "execution_count": 42,
   "id": "ce2df4d6-d9a7-456e-9de7-47db343b023f",
   "metadata": {},
   "outputs": [],
   "source": [
    "df.columns = df.columns.str.lower().str.replace(' ', '_')"
   ]
  },
  {
   "cell_type": "code",
   "execution_count": 43,
   "id": "8b7b7513-69c5-4c9e-af9e-2cf5bad6e03c",
   "metadata": {},
   "outputs": [],
   "source": [
    "columns = ['ram', 'storage', 'screen', 'final_price']\n",
    "df = df[columns]"
   ]
  },
  {
   "cell_type": "markdown",
   "id": "05b29044-1d65-44a8-ba19-17f50f259239",
   "metadata": {},
   "source": [
    "### Q1"
   ]
  },
  {
   "cell_type": "code",
   "execution_count": 44,
   "id": "854f8ffc-21e2-4635-8c4e-6f8023bc3acc",
   "metadata": {
    "scrolled": true
   },
   "outputs": [
    {
     "name": "stdout",
     "output_type": "stream",
     "text": [
      "ram            0\n",
      "storage        0\n",
      "screen         4\n",
      "final_price    0\n",
      "dtype: int64\n"
     ]
    }
   ],
   "source": [
    "missing_values = df.isnull().sum()\n",
    "print(missing_values)"
   ]
  },
  {
   "cell_type": "markdown",
   "id": "fdc142a2-a00c-46a3-9bc8-8ef966a3b9eb",
   "metadata": {},
   "source": [
    "### Q2"
   ]
  },
  {
   "cell_type": "code",
   "execution_count": 45,
   "id": "01f1c5ac-23e8-4081-a7a4-2c662d26430e",
   "metadata": {},
   "outputs": [
    {
     "name": "stdout",
     "output_type": "stream",
     "text": [
      "16.0\n"
     ]
    }
   ],
   "source": [
    "median_ram = df['ram'].median()\n",
    "print(median_ram)"
   ]
  },
  {
   "cell_type": "code",
   "execution_count": 46,
   "id": "67f3906c-10f8-4d83-82d1-00b66ee64037",
   "metadata": {},
   "outputs": [],
   "source": [
    "df = df.sample(frac=1, random_state=42).reset_index(drop=True)"
   ]
  },
  {
   "cell_type": "code",
   "execution_count": 47,
   "id": "aba6ab94-6cab-4581-b58c-7170f5fbf373",
   "metadata": {},
   "outputs": [],
   "source": [
    "df_train, df_temp = train_test_split(df, test_size=0.4, random_state=42)\n",
    "df_val, df_test = train_test_split(df_temp, test_size=0.5, random_state=42)"
   ]
  },
  {
   "cell_type": "code",
   "execution_count": 48,
   "id": "0b156799-fd47-4c07-b267-a998a2702132",
   "metadata": {},
   "outputs": [
    {
     "name": "stdout",
     "output_type": "stream",
     "text": [
      "Training set size: 1296\n",
      "Validation set size: 432\n",
      "Test set size: 432\n"
     ]
    }
   ],
   "source": [
    "print(f'Training set size: {len(df_train)}')\n",
    "print(f'Validation set size: {len(df_val)}')\n",
    "print(f'Test set size: {len(df_test)}')"
   ]
  },
  {
   "cell_type": "code",
   "execution_count": 49,
   "id": "29bb508f-9876-42c8-952e-9e5f100dec29",
   "metadata": {},
   "outputs": [],
   "source": [
    "def prepare_X_y(df):\n",
    "    X = df[['ram', 'storage', 'screen']].fillna(0)  # Placeholder, we'll change later\n",
    "    y = df['final_price']\n",
    "    return X, y"
   ]
  },
  {
   "cell_type": "code",
   "execution_count": 50,
   "id": "dc0bb3f0-0248-48bb-b7be-7f24c1dd3e45",
   "metadata": {},
   "outputs": [],
   "source": [
    "def rmse(y_true, y_pred):\n",
    "    return np.sqrt(mean_squared_error(y_true, y_pred))"
   ]
  },
  {
   "cell_type": "code",
   "execution_count": 51,
   "id": "bd77a267-514b-47a9-aee5-9c9986f228ae",
   "metadata": {},
   "outputs": [],
   "source": [
    "model = LinearRegression()"
   ]
  },
  {
   "cell_type": "code",
   "execution_count": 52,
   "id": "f155f92c-06e8-404a-a543-731e6798bbdc",
   "metadata": {},
   "outputs": [],
   "source": [
    "X_train, y_train = prepare_X_y(df_train)\n",
    "X_val, y_val = df_val[['ram', 'storage', 'screen']].fillna(0), df_val['final_price']\n",
    "\n",
    "model.fit(X_train, y_train)\n",
    "y_pred_0 = model.predict(X_val)\n",
    "rmse_0 = round(rmse(y_val, y_pred_0), 2)"
   ]
  },
  {
   "cell_type": "code",
   "execution_count": 54,
   "id": "7f7053a6-b71c-45c0-9b9e-b031e60e04df",
   "metadata": {},
   "outputs": [],
   "source": [
    "mean_values = df_train[['ram', 'storage', 'screen']].mean()\n",
    "X_train_mean = df_train[['ram', 'storage', 'screen']].fillna(mean_values)\n",
    "X_val_mean = df_val[['ram', 'storage', 'screen']].fillna(mean_values)"
   ]
  },
  {
   "cell_type": "code",
   "execution_count": 56,
   "id": "2d50907e-79a7-4979-b7b9-4b1caa145eb0",
   "metadata": {},
   "outputs": [],
   "source": [
    "model.fit(X_train_mean, y_train)\n",
    "y_pred_mean = model.predict(X_val_mean)\n",
    "rmse_mean = round(rmse(y_val, y_pred_mean), 2)"
   ]
  },
  {
   "cell_type": "markdown",
   "id": "c5b6243e-70c9-45f1-abfd-cefe317ec254",
   "metadata": {},
   "source": [
    "### Q3"
   ]
  },
  {
   "cell_type": "code",
   "execution_count": 57,
   "id": "f6347cd1-a841-48a8-8c9f-f3c40373f00b",
   "metadata": {},
   "outputs": [
    {
     "name": "stdout",
     "output_type": "stream",
     "text": [
      "RMSE when filling with 0: 675.08\n",
      "RMSE when filling with mean: 675.16\n"
     ]
    }
   ],
   "source": [
    "print(f'RMSE when filling with 0: {rmse_0}')\n",
    "print(f'RMSE when filling with mean: {rmse_mean}')"
   ]
  },
  {
   "cell_type": "markdown",
   "id": "b467716a-c812-4d7f-871d-d02a98cd535d",
   "metadata": {},
   "source": [
    "### Q4"
   ]
  },
  {
   "cell_type": "code",
   "execution_count": 63,
   "id": "ab5863d1-1a21-4845-b220-2e5d5466070a",
   "metadata": {},
   "outputs": [],
   "source": [
    "from sklearn.linear_model import Ridge"
   ]
  },
  {
   "cell_type": "code",
   "execution_count": 64,
   "id": "42c4b3f3-4790-40b1-bdef-b2b0a3b8ff0c",
   "metadata": {},
   "outputs": [],
   "source": [
    "r_values = [0, 0.01, 0.1, 1, 5, 10, 100]\n",
    "best_rmse = float('inf')\n",
    "best_r = None"
   ]
  },
  {
   "cell_type": "code",
   "execution_count": 69,
   "id": "ce9b3bed-9531-44b5-b0ed-bdf82487eb03",
   "metadata": {},
   "outputs": [
    {
     "name": "stdout",
     "output_type": "stream",
     "text": [
      "RMSE for r=0: 675.08\n",
      "RMSE for r=0.01: 675.08\n",
      "RMSE for r=0.1: 675.08\n",
      "RMSE for r=1: 675.08\n",
      "RMSE for r=5: 675.08\n",
      "RMSE for r=10: 675.08\n",
      "RMSE for r=100: 675.01\n"
     ]
    }
   ],
   "source": [
    "for r in r_values:\n",
    "    model = Ridge(alpha=r)\n",
    "    model.fit(X_train, y_train)\n",
    "    y_pred = model.predict(X_val)\n",
    "    current_rmse = round(rmse(y_val, y_pred), 2)\n",
    "    \n",
    "    print(f'RMSE for r={r}: {current_rmse}')\n",
    "    \n",
    "    if current_rmse < best_rmse:\n",
    "        best_rmse = current_rmse\n",
    "        best_r = r"
   ]
  },
  {
   "cell_type": "markdown",
   "id": "ca3ac2a3-268f-43f5-a77e-924d61c74425",
   "metadata": {},
   "source": [
    "### Q5"
   ]
  },
  {
   "cell_type": "code",
   "execution_count": 71,
   "id": "1ca1dbb9-23fb-451d-94e6-c74e63b7effe",
   "metadata": {},
   "outputs": [],
   "source": [
    "from sklearn.model_selection import train_test_split\n",
    "from sklearn.linear_model import LinearRegression\n",
    "from sklearn.metrics import mean_squared_error"
   ]
  },
  {
   "cell_type": "code",
   "execution_count": 73,
   "id": "e6c4d6c7-808c-4264-aef7-d85b6fa1f002",
   "metadata": {},
   "outputs": [],
   "source": [
    "def rmse(y_true, y_pred):\n",
    "    return np.sqrt(mean_squared_error(y_true, y_pred))"
   ]
  },
  {
   "cell_type": "code",
   "execution_count": 74,
   "id": "1c9fa735-6144-469c-8999-c6c2841dc236",
   "metadata": {},
   "outputs": [],
   "source": [
    "seed_values = [0, 1, 2, 3, 4, 5, 6, 7, 8, 9]\n",
    "rmse_scores = []"
   ]
  },
  {
   "cell_type": "code",
   "execution_count": 76,
   "id": "1ee88835-80f8-45db-9153-3a566950b908",
   "metadata": {},
   "outputs": [],
   "source": [
    "for seed in seed_values:\n",
    "    # Split the dataset into 60% train, 20% validation, and 20% test sets\n",
    "    df_train, df_temp = train_test_split(df, test_size=0.4, random_state=seed)\n",
    "    df_val, df_test = train_test_split(df_temp, test_size=0.5, random_state=seed)\n",
    "\n",
    "    # Prepare input features (X) and target variable (y)\n",
    "    X_train = df_train[['ram', 'storage', 'screen']].fillna(0)\n",
    "    y_train = df_train['final_price']\n",
    "    X_val = df_val[['ram', 'storage', 'screen']].fillna(0)\n",
    "    y_val = df_val['final_price']\n",
    "\n",
    "    # Train a linear regression model without regularization\n",
    "    model = LinearRegression()\n",
    "    model.fit(X_train, y_train)\n",
    "    y_pred = model.predict(X_val)\n",
    "\n",
    "    # Calculate RMSE and append to list\n",
    "    current_rmse = rmse(y_val, y_pred)\n",
    "    rmse_scores.append(current_rmse)"
   ]
  },
  {
   "cell_type": "code",
   "execution_count": 78,
   "id": "e035c0db-329b-4842-abc0-79c5cd17c85f",
   "metadata": {},
   "outputs": [
    {
     "name": "stdout",
     "output_type": "stream",
     "text": [
      "Standard deviation of RMSE scores: 29.442\n"
     ]
    }
   ],
   "source": [
    "# Calculate the standard deviation of the RMSE scores\n",
    "std_rmse = round(np.std(rmse_scores), 3)\n",
    "print(f'Standard deviation of RMSE scores: {std_rmse}')"
   ]
  },
  {
   "cell_type": "markdown",
   "id": "afec22ad-d412-442d-b3b3-f9e731c6535e",
   "metadata": {},
   "source": [
    "### Q6"
   ]
  },
  {
   "cell_type": "code",
   "execution_count": 88,
   "id": "e0cc73e2-a465-44be-868b-8585ac6b5738",
   "metadata": {},
   "outputs": [],
   "source": [
    "df_train, df_temp = train_test_split(df, test_size=0.4, random_state=9)\n",
    "df_val, df_test = train_test_split(df_temp, test_size=0.5, random_state=9)"
   ]
  },
  {
   "cell_type": "code",
   "execution_count": 89,
   "id": "220644bf-13b8-47e6-b0dc-fcc9381d7866",
   "metadata": {},
   "outputs": [],
   "source": [
    "df_train_val = pd.concat([df_train, df_val])"
   ]
  },
  {
   "cell_type": "code",
   "execution_count": 90,
   "id": "d748e5f0-9382-4eb8-8630-2e0ed8ef43e7",
   "metadata": {},
   "outputs": [],
   "source": [
    "X_train_val = df_train_val[['ram', 'storage', 'screen']].fillna(0)\n",
    "y_train_val = df_train_val['final_price']\n",
    "X_test = df_test[['ram', 'storage', 'screen']].fillna(0)\n",
    "y_test = df_test['final_price']"
   ]
  },
  {
   "cell_type": "code",
   "execution_count": 91,
   "id": "eea908a7-bfed-4196-b1dd-904586d3b111",
   "metadata": {},
   "outputs": [
    {
     "name": "stdout",
     "output_type": "stream",
     "text": [
      "RMSE on the test set: 537.15\n"
     ]
    }
   ],
   "source": [
    "# Train a Ridge regression model with r=0.001\n",
    "model = Ridge(alpha=0.001)\n",
    "model.fit(X_train_val, y_train_val)\n",
    "\n",
    "# Predict on the test set\n",
    "y_pred_test = model.predict(X_test)\n",
    "\n",
    "# Calculate RMSE on the test set\n",
    "rmse_test = round(rmse(y_test, y_pred_test), 2)\n",
    "\n",
    "# Print the RMSE\n",
    "print(f'RMSE on the test set: {rmse_test}')"
   ]
  },
  {
   "cell_type": "code",
   "execution_count": 87,
   "id": "cb730023-2de8-4883-96f0-0e4c6ab065d1",
   "metadata": {},
   "outputs": [
    {
     "name": "stdout",
     "output_type": "stream",
     "text": [
      "RMSE on the test set: 537.15\n"
     ]
    }
   ],
   "source": [
    "y_pred_test = model.predict(X_test)\n",
    "\n",
    "# Calculate RMSE on the test set\n",
    "rmse_test = round(rmse(y_test, y_pred_test), 2)\n",
    "\n",
    "# Print the RMSE\n",
    "print(f'RMSE on the test set: {rmse_test}')"
   ]
  },
  {
   "cell_type": "code",
   "execution_count": 92,
   "id": "7ceb48ec-6cc2-4d0c-9aba-f1b07bba22f6",
   "metadata": {},
   "outputs": [
    {
     "name": "stdout",
     "output_type": "stream",
     "text": [
      "RMSE on the test set: 602.43\n"
     ]
    }
   ],
   "source": [
    "import pandas as pd\n",
    "import numpy as np\n",
    "from sklearn.model_selection import train_test_split\n",
    "from sklearn.linear_model import Ridge\n",
    "from sklearn.metrics import mean_squared_error\n",
    "\n",
    "# Load the dataset\n",
    "url = \"https://raw.githubusercontent.com/alexeygrigorev/datasets/master/laptops.csv\"\n",
    "df = pd.read_csv(url)\n",
    "\n",
    "# Normalize column names\n",
    "df.columns = df.columns.str.lower().str.replace(' ', '_')\n",
    "\n",
    "# Select the required columns\n",
    "columns = ['ram', 'storage', 'screen', 'final_price']\n",
    "df = df[columns]\n",
    "\n",
    "# Function to calculate RMSE\n",
    "def rmse(y_true, y_pred):\n",
    "    return np.sqrt(mean_squared_error(y_true, y_pred))\n",
    "\n",
    "# Split the dataset into 60% train, 20% validation, and 20% test sets using seed 9\n",
    "df_train, df_temp = train_test_split(df, test_size=0.4, random_state=9)\n",
    "df_val, df_test = train_test_split(df_temp, test_size=0.5, random_state=9)\n",
    "\n",
    "# Combine train and validation datasets\n",
    "df_train_val = pd.concat([df_train, df_val])\n",
    "\n",
    "# Prepare input features (X) and target variable (y)\n",
    "X_train_val = df_train_val[['ram', 'storage', 'screen']].fillna(0)\n",
    "y_train_val = df_train_val['final_price']\n",
    "X_test = df_test[['ram', 'storage', 'screen']].fillna(0)\n",
    "y_test = df_test['final_price']\n",
    "\n",
    "# Train a Ridge regression model with r=0.001\n",
    "model = Ridge(alpha=0.001)\n",
    "model.fit(X_train_val, y_train_val)\n",
    "\n",
    "# Predict on the test set\n",
    "y_pred_test = model.predict(X_test)\n",
    "\n",
    "# Calculate RMSE on the test set\n",
    "rmse_test = round(rmse(y_test, y_pred_test), 2)\n",
    "\n",
    "# Print the RMSE\n",
    "print(f'RMSE on the test set: {rmse_test}')\n"
   ]
  },
  {
   "cell_type": "code",
   "execution_count": null,
   "id": "a757758b-6046-45e8-8e2d-3bafa0d225db",
   "metadata": {},
   "outputs": [],
   "source": []
  }
 ],
 "metadata": {
  "kernelspec": {
   "display_name": "Python 3 (ipykernel)",
   "language": "python",
   "name": "python3"
  },
  "language_info": {
   "codemirror_mode": {
    "name": "ipython",
    "version": 3
   },
   "file_extension": ".py",
   "mimetype": "text/x-python",
   "name": "python",
   "nbconvert_exporter": "python",
   "pygments_lexer": "ipython3",
   "version": "3.12.6"
  }
 },
 "nbformat": 4,
 "nbformat_minor": 5
}
