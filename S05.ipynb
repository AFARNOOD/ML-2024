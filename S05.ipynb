{
 "cells": [
  {
   "cell_type": "markdown",
   "id": "62b14280-e29f-4297-855e-3ddde32395e3",
   "metadata": {},
   "source": [
    "### Q1"
   ]
  },
  {
   "cell_type": "code",
   "execution_count": 1,
   "id": "0ac63ec6-0b00-446c-8657-3eb4f07ac918",
   "metadata": {},
   "outputs": [
    {
     "name": "stdout",
     "output_type": "stream",
     "text": [
      "Requirement already satisfied: pipenv in c:\\users\\a_farnoo\\appdata\\local\\programs\\python\\python312\\lib\\site-packages (2024.3.0)\n",
      "Requirement already satisfied: certifi in c:\\users\\a_farnoo\\appdata\\local\\programs\\python\\python312\\lib\\site-packages (from pipenv) (2024.8.30)\n",
      "Requirement already satisfied: packaging>=22 in c:\\users\\a_farnoo\\appdata\\local\\programs\\python\\python312\\lib\\site-packages (from pipenv) (24.1)\n",
      "Requirement already satisfied: setuptools>=67 in c:\\users\\a_farnoo\\appdata\\local\\programs\\python\\python312\\lib\\site-packages (from pipenv) (75.1.0)\n",
      "Requirement already satisfied: virtualenv>=20.24.2 in c:\\users\\a_farnoo\\appdata\\local\\programs\\python\\python312\\lib\\site-packages (from pipenv) (20.27.1)\n",
      "Requirement already satisfied: distlib<1,>=0.3.7 in c:\\users\\a_farnoo\\appdata\\local\\programs\\python\\python312\\lib\\site-packages (from virtualenv>=20.24.2->pipenv) (0.3.9)\n",
      "Requirement already satisfied: filelock<4,>=3.12.2 in c:\\users\\a_farnoo\\appdata\\local\\programs\\python\\python312\\lib\\site-packages (from virtualenv>=20.24.2->pipenv) (3.16.1)\n",
      "Requirement already satisfied: platformdirs<5,>=3.9.1 in c:\\users\\a_farnoo\\appdata\\local\\programs\\python\\python312\\lib\\site-packages (from virtualenv>=20.24.2->pipenv) (4.3.6)\n",
      "Note: you may need to restart the kernel to use updated packages.\n"
     ]
    }
   ],
   "source": [
    "pip install pipenv"
   ]
  },
  {
   "cell_type": "code",
   "execution_count": 2,
   "id": "7a7fd96f-729b-4a36-841f-87536ad5262f",
   "metadata": {},
   "outputs": [
    {
     "name": "stdout",
     "output_type": "stream",
     "text": [
      "Requirement already satisfied: pip in c:\\users\\a_farnoo\\appdata\\local\\programs\\python\\python312\\lib\\site-packages (24.3.1)\n",
      "Note: you may need to restart the kernel to use updated packages.\n"
     ]
    }
   ],
   "source": [
    "pip install --upgrade pip"
   ]
  },
  {
   "cell_type": "code",
   "execution_count": 3,
   "id": "3e95d934-8e86-4054-a9d6-f0a0b85fd303",
   "metadata": {},
   "outputs": [
    {
     "name": "stdout",
     "output_type": "stream",
     "text": [
      "pip 24.3.1 from C:\\Users\\a_farnoo\\AppData\\Local\\Programs\\Python\\Python312\\Lib\\site-packages\\pip (python 3.12)\n",
      "\n",
      "Note: you may need to restart the kernel to use updated packages.\n"
     ]
    }
   ],
   "source": [
    "pip --version"
   ]
  },
  {
   "cell_type": "markdown",
   "id": "d442c2ba-e03d-41e1-8dbb-c8929e0ca9de",
   "metadata": {},
   "source": [
    "### Q2"
   ]
  },
  {
   "cell_type": "code",
   "execution_count": 4,
   "id": "f3040036-a004-432e-a72e-14c2d19bb60d",
   "metadata": {},
   "outputs": [
    {
     "name": "stderr",
     "output_type": "stream",
     "text": [
      "A subdirectory or file ml_homework already exists.\n"
     ]
    }
   ],
   "source": [
    "mkdir ml_homework"
   ]
  },
  {
   "cell_type": "code",
   "execution_count": 5,
   "id": "21d621b0-1618-4da2-901d-a031b027acae",
   "metadata": {},
   "outputs": [
    {
     "name": "stdout",
     "output_type": "stream",
     "text": [
      "Requirement already satisfied: pickleshare in c:\\users\\a_farnoo\\appdata\\local\\programs\\python\\python312\\lib\\site-packages (0.7.5)\n",
      "Note: you may need to restart the kernel to use updated packages.\n"
     ]
    }
   ],
   "source": [
    "pip install pickleshare"
   ]
  },
  {
   "cell_type": "code",
   "execution_count": 6,
   "id": "553188d0-b031-4b0e-93ba-98c8bfe53d90",
   "metadata": {},
   "outputs": [
    {
     "name": "stdout",
     "output_type": "stream",
     "text": [
      "C:\\JUPYTER\\ml_homework\n"
     ]
    }
   ],
   "source": [
    "cd ml_homework"
   ]
  },
  {
   "cell_type": "code",
   "execution_count": 7,
   "id": "00b39cfe-3910-45ce-8f35-59ed0f17ea5b",
   "metadata": {
    "scrolled": true
   },
   "outputs": [
    {
     "name": "stdout",
     "output_type": "stream",
     "text": [
      "Requirement already satisfied: scikit-learn==1.5.2 in c:\\users\\a_farnoo\\appdata\\local\\programs\\python\\python312\\lib\\site-packages (1.5.2)\n",
      "Requirement already satisfied: numpy>=1.19.5 in c:\\users\\a_farnoo\\appdata\\local\\programs\\python\\python312\\lib\\site-packages (from scikit-learn==1.5.2) (2.1.1)\n",
      "Requirement already satisfied: scipy>=1.6.0 in c:\\users\\a_farnoo\\appdata\\local\\programs\\python\\python312\\lib\\site-packages (from scikit-learn==1.5.2) (1.14.1)\n",
      "Requirement already satisfied: joblib>=1.2.0 in c:\\users\\a_farnoo\\appdata\\local\\programs\\python\\python312\\lib\\site-packages (from scikit-learn==1.5.2) (1.4.2)\n",
      "Requirement already satisfied: threadpoolctl>=3.1.0 in c:\\users\\a_farnoo\\appdata\\local\\programs\\python\\python312\\lib\\site-packages (from scikit-learn==1.5.2) (3.5.0)\n",
      "Note: you may need to restart the kernel to use updated packages.\n"
     ]
    }
   ],
   "source": [
    "pip install scikit-learn==1.5.2"
   ]
  },
  {
   "cell_type": "code",
   "execution_count": 8,
   "id": "b477c04d-2410-49d9-b596-e1696372a724",
   "metadata": {},
   "outputs": [
    {
     "name": "stdout",
     "output_type": "stream",
     "text": [
      "Requirement already satisfied: scikit-learn in c:\\users\\a_farnoo\\appdata\\local\\programs\\python\\python312\\lib\\site-packages (1.5.2)\n",
      "Requirement already satisfied: numpy>=1.19.5 in c:\\users\\a_farnoo\\appdata\\local\\programs\\python\\python312\\lib\\site-packages (from scikit-learn) (2.1.1)\n",
      "Requirement already satisfied: scipy>=1.6.0 in c:\\users\\a_farnoo\\appdata\\local\\programs\\python\\python312\\lib\\site-packages (from scikit-learn) (1.14.1)\n",
      "Requirement already satisfied: joblib>=1.2.0 in c:\\users\\a_farnoo\\appdata\\local\\programs\\python\\python312\\lib\\site-packages (from scikit-learn) (1.4.2)\n",
      "Requirement already satisfied: threadpoolctl>=3.1.0 in c:\\users\\a_farnoo\\appdata\\local\\programs\\python\\python312\\lib\\site-packages (from scikit-learn) (3.5.0)\n",
      "Note: you may need to restart the kernel to use updated packages.\n"
     ]
    }
   ],
   "source": [
    "pip install scikit-learn"
   ]
  },
  {
   "cell_type": "code",
   "execution_count": 9,
   "id": "a7a7d4b4-6d0e-42f1-8437-702dad37d961",
   "metadata": {},
   "outputs": [],
   "source": [
    "import sklearn"
   ]
  },
  {
   "cell_type": "code",
   "execution_count": 10,
   "id": "2549c81e-531a-4853-a0a1-217f85414b8a",
   "metadata": {},
   "outputs": [
    {
     "name": "stdout",
     "output_type": "stream",
     "text": [
      "1.5.2\n"
     ]
    }
   ],
   "source": [
    "print(sklearn.__version__)"
   ]
  },
  {
   "cell_type": "markdown",
   "id": "ff5b3ce1-81fe-4184-a8da-65a5a8be38c9",
   "metadata": {},
   "source": [
    "### Q3"
   ]
  },
  {
   "cell_type": "code",
   "execution_count": 11,
   "id": "f0e5d744-77d8-4f18-bf80-2b786d6891fc",
   "metadata": {},
   "outputs": [],
   "source": [
    "# Define the prefix\n",
    "PREFIX = \"https://raw.githubusercontent.com/DataTalksClub/machine-learning-zoomcamp/master/cohorts/2024/05-deployment/homework\""
   ]
  },
  {
   "cell_type": "code",
   "execution_count": 12,
   "id": "6afb941b-b361-4781-86c8-4b26334dc72d",
   "metadata": {},
   "outputs": [
    {
     "name": "stderr",
     "output_type": "stream",
     "text": [
      "--2024-10-30 13:55:52--  https://raw.githubusercontent.com/DataTalksClub/machine-learning-zoomcamp/master/cohorts/2024/05-deployment/homework/model1.bin\n",
      "Resolving raw.githubusercontent.com (raw.githubusercontent.com)... 185.199.109.133, 185.199.111.133, 185.199.110.133, ...\n",
      "Connecting to raw.githubusercontent.com (raw.githubusercontent.com)|185.199.109.133|:443... connected.\n",
      "HTTP request sent, awaiting response... 200 OK\n",
      "Length: 850 [application/octet-stream]\n",
      "Saving to: 'model1.bin.3'\n",
      "\n",
      "     0K                                                       100% 35.9M=0s\n",
      "\n",
      "2024-10-30 13:55:53 (35.9 MB/s) - 'model1.bin.3' saved [850/850]\n",
      "\n",
      "--2024-10-30 13:55:53--  https://raw.githubusercontent.com/DataTalksClub/machine-learning-zoomcamp/master/cohorts/2024/05-deployment/homework/dv.bin\n",
      "Resolving raw.githubusercontent.com (raw.githubusercontent.com)... 185.199.109.133, 185.199.111.133, 185.199.110.133, ...\n",
      "Connecting to raw.githubusercontent.com (raw.githubusercontent.com)|185.199.109.133|:443... connected.\n",
      "HTTP request sent, awaiting response... 200 OK\n",
      "Length: 560 [application/octet-stream]\n",
      "Saving to: 'dv.bin.3'\n",
      "\n",
      "     0K                                                       100% 27.4M=0s\n",
      "\n",
      "2024-10-30 13:55:53 (27.4 MB/s) - 'dv.bin.3' saved [560/560]\n",
      "\n"
     ]
    }
   ],
   "source": [
    "# Download the files\n",
    "!wget {PREFIX}/model1.bin\n",
    "!wget {PREFIX}/dv.bin"
   ]
  },
  {
   "cell_type": "code",
   "execution_count": 13,
   "id": "2499b9cd-6cb8-4db6-a312-312712c5b21b",
   "metadata": {},
   "outputs": [
    {
     "name": "stderr",
     "output_type": "stream",
     "text": [
      "  % Total    % Received % Xferd  Average Speed   Time    Time     Time  Current\n",
      "                                 Dload  Upload   Total   Spent    Left  Speed\n",
      "\n",
      "  0     0    0     0    0     0      0      0 --:--:-- --:--:-- --:--:--     0\n",
      "100   850  100   850    0     0  18717      0 --:--:-- --:--:-- --:--:-- 20238\n",
      "  % Total    % Received % Xferd  Average Speed   Time    Time     Time  Current\n",
      "                                 Dload  Upload   Total   Spent    Left  Speed\n",
      "\n",
      "  0     0    0     0    0     0      0      0 --:--:-- --:--:-- --:--:--     0\n",
      "100   560  100   560    0     0  17145      0 --:--:-- --:--:-- --:--:-- 20000\n"
     ]
    }
   ],
   "source": [
    "!curl -O {PREFIX}/model1.bin\n",
    "!curl -O {PREFIX}/dv.bin"
   ]
  },
  {
   "cell_type": "code",
   "execution_count": 14,
   "id": "e56ba3b4-cd6b-4255-8159-3f31e42f62bf",
   "metadata": {},
   "outputs": [],
   "source": [
    "import pickle\n",
    "import numpy as np"
   ]
  },
  {
   "cell_type": "code",
   "execution_count": 15,
   "id": "38e8f310-3f78-4125-9177-de00f4cf0c5f",
   "metadata": {},
   "outputs": [],
   "source": [
    "# Load the DictVectorizer and model\n",
    "with open('dv.bin', 'rb') as f_dv:\n",
    "    dv = pickle.load(f_dv)\n",
    "\n",
    "with open('model1.bin', 'rb') as f_model:\n",
    "    model = pickle.load(f_model)"
   ]
  },
  {
   "cell_type": "code",
   "execution_count": 16,
   "id": "2ca12e63-9201-47d6-95e3-30c63141680b",
   "metadata": {},
   "outputs": [],
   "source": [
    "# Define the client data\n",
    "client = {\"job\": \"management\", \"duration\": 400, \"poutcome\": \"success\"}"
   ]
  },
  {
   "cell_type": "code",
   "execution_count": 17,
   "id": "bc220a11-1eaf-441b-8e42-bd4e7a0a5b46",
   "metadata": {},
   "outputs": [],
   "source": [
    "# Transform client data using the DictVectorizer\n",
    "X = dv.transform([client])"
   ]
  },
  {
   "cell_type": "code",
   "execution_count": 18,
   "id": "dd4b584e-bacf-4b8a-9ca9-c00f0bc2703a",
   "metadata": {},
   "outputs": [
    {
     "name": "stdout",
     "output_type": "stream",
     "text": [
      "Probability of subscription: 0.759\n"
     ]
    }
   ],
   "source": [
    "# Predict the probability of subscription\n",
    "proba = model.predict_proba(X)[0, 1]\n",
    "print(f\"Probability of subscription: {proba:.3f}\")"
   ]
  },
  {
   "cell_type": "code",
   "execution_count": 19,
   "id": "7cb6f500-43fe-4208-a258-d2d4df476b77",
   "metadata": {},
   "outputs": [],
   "source": [
    "import hashlib\n",
    "import pickle"
   ]
  },
  {
   "cell_type": "code",
   "execution_count": 20,
   "id": "e26aced4-514a-4746-b155-71e836718517",
   "metadata": {},
   "outputs": [],
   "source": [
    "# Function to calculate MD5 checksum\n",
    "def md5sum(filename):\n",
    "    with open(filename, \"rb\") as f:\n",
    "        return hashlib.md5(f.read()).hexdigest()"
   ]
  },
  {
   "cell_type": "code",
   "execution_count": 21,
   "id": "2c72db7d-7e53-426f-8b8d-b95a61503d61",
   "metadata": {},
   "outputs": [],
   "source": [
    "# Calculate checksums\n",
    "model_checksum = md5sum(\"model1.bin\")\n",
    "dv_checksum = md5sum(\"dv.bin\")"
   ]
  },
  {
   "cell_type": "code",
   "execution_count": 22,
   "id": "2ff58170-9bdc-4d9f-985c-1ccd441547a4",
   "metadata": {},
   "outputs": [
    {
     "name": "stdout",
     "output_type": "stream",
     "text": [
      "model1.bin checksum: 3d8bb28974e55edefa000fe38fd3ed12\n",
      "dv.bin checksum: 7d37616e00aa80f2152b8b0511fc2dff\n"
     ]
    }
   ],
   "source": [
    "print(\"model1.bin checksum:\", model_checksum)\n",
    "print(\"dv.bin checksum:\", dv_checksum)"
   ]
  },
  {
   "cell_type": "markdown",
   "id": "561ae494-9da4-43c0-8959-2cc7e950c866",
   "metadata": {},
   "source": [
    "### Q4"
   ]
  },
  {
   "cell_type": "code",
   "execution_count": 23,
   "id": "e89d69bc-d99b-47d5-a910-63824ddef1da",
   "metadata": {},
   "outputs": [
    {
     "name": "stdout",
     "output_type": "stream",
     "text": [
      "Requirement already satisfied: Flask in c:\\users\\a_farnoo\\appdata\\local\\programs\\python\\python312\\lib\\site-packages (3.0.3)\n",
      "Requirement already satisfied: Werkzeug>=3.0.0 in c:\\users\\a_farnoo\\appdata\\local\\programs\\python\\python312\\lib\\site-packages (from Flask) (3.0.6)\n",
      "Requirement already satisfied: Jinja2>=3.1.2 in c:\\users\\a_farnoo\\appdata\\local\\programs\\python\\python312\\lib\\site-packages (from Flask) (3.1.4)\n",
      "Requirement already satisfied: itsdangerous>=2.1.2 in c:\\users\\a_farnoo\\appdata\\local\\programs\\python\\python312\\lib\\site-packages (from Flask) (2.2.0)\n",
      "Requirement already satisfied: click>=8.1.3 in c:\\users\\a_farnoo\\appdata\\local\\programs\\python\\python312\\lib\\site-packages (from Flask) (8.1.7)\n",
      "Requirement already satisfied: blinker>=1.6.2 in c:\\users\\a_farnoo\\appdata\\local\\programs\\python\\python312\\lib\\site-packages (from Flask) (1.8.2)\n",
      "Requirement already satisfied: colorama in c:\\users\\a_farnoo\\appdata\\local\\programs\\python\\python312\\lib\\site-packages (from click>=8.1.3->Flask) (0.4.6)\n",
      "Requirement already satisfied: MarkupSafe>=2.0 in c:\\users\\a_farnoo\\appdata\\local\\programs\\python\\python312\\lib\\site-packages (from Jinja2>=3.1.2->Flask) (2.1.5)\n"
     ]
    }
   ],
   "source": [
    "!pip install Flask"
   ]
  },
  {
   "cell_type": "code",
   "execution_count": 24,
   "id": "7e2c3eab-9ffd-4b3d-89a2-78390ac878c2",
   "metadata": {},
   "outputs": [
    {
     "name": "stdout",
     "output_type": "stream",
     "text": [
      "Requirement already satisfied: gunicorn in c:\\users\\a_farnoo\\appdata\\local\\programs\\python\\python312\\lib\\site-packages (23.0.0)\n",
      "Requirement already satisfied: packaging in c:\\users\\a_farnoo\\appdata\\local\\programs\\python\\python312\\lib\\site-packages (from gunicorn) (24.1)\n"
     ]
    }
   ],
   "source": [
    "!pip install gunicorn"
   ]
  },
  {
   "cell_type": "code",
   "execution_count": 25,
   "id": "e0a2ee8d-03a3-47c0-bebb-b103dbf83b7f",
   "metadata": {},
   "outputs": [
    {
     "name": "stdout",
     "output_type": "stream",
     "text": [
      "Requirement already satisfied: waitress in c:\\users\\a_farnoo\\appdata\\local\\programs\\python\\python312\\lib\\site-packages (3.0.1)\n"
     ]
    }
   ],
   "source": [
    "!pip install waitress"
   ]
  },
  {
   "cell_type": "code",
   "execution_count": 26,
   "id": "45f0547b-0618-4077-b445-951d4c53c931",
   "metadata": {},
   "outputs": [],
   "source": [
    "import flask"
   ]
  },
  {
   "cell_type": "code",
   "execution_count": 27,
   "id": "4bae5a1e-bb73-44d5-993b-f962665cb6a7",
   "metadata": {},
   "outputs": [
    {
     "name": "stdout",
     "output_type": "stream",
     "text": [
      "Flask version: 3.0.3\n"
     ]
    },
    {
     "name": "stderr",
     "output_type": "stream",
     "text": [
      "C:\\Users\\a_farnoo\\AppData\\Local\\Temp\\ipykernel_21252\\1445226132.py:1: DeprecationWarning: The '__version__' attribute is deprecated and will be removed in Flask 3.1. Use feature detection or 'importlib.metadata.version(\"flask\")' instead.\n",
      "  print(\"Flask version:\", flask.__version__)\n"
     ]
    }
   ],
   "source": [
    "print(\"Flask version:\", flask.__version__)"
   ]
  },
  {
   "cell_type": "code",
   "execution_count": 28,
   "id": "7373f043-08b1-4e44-8714-eeadde87e411",
   "metadata": {},
   "outputs": [],
   "source": [
    "from flask import Flask, request, jsonify\n",
    "import pickle"
   ]
  },
  {
   "cell_type": "code",
   "execution_count": 29,
   "id": "559fbab0-573f-455e-abc5-0815df9f925a",
   "metadata": {},
   "outputs": [],
   "source": [
    "# Load the model and DictVectorizer\n",
    "with open('dv.bin', 'rb') as f_dv:\n",
    "    dv = pickle.load(f_dv)"
   ]
  },
  {
   "cell_type": "code",
   "execution_count": 30,
   "id": "92ea5152-e81a-4e28-a600-7145cae35e88",
   "metadata": {},
   "outputs": [],
   "source": [
    "with open('model1.bin', 'rb') as f_model:\n",
    "    model = pickle.load(f_model)"
   ]
  },
  {
   "cell_type": "code",
   "execution_count": 31,
   "id": "f0f68ab1-8df3-437d-8b08-7ffb290f884d",
   "metadata": {},
   "outputs": [],
   "source": [
    "# Initialize the Flask app\n",
    "app = Flask(__name__)"
   ]
  },
  {
   "cell_type": "code",
   "execution_count": 32,
   "id": "37bd1555-26e6-40c0-abeb-25056b31445a",
   "metadata": {},
   "outputs": [],
   "source": [
    "# Define the route for prediction\n",
    "@app.route('/predict', methods=['POST'])\n",
    "def predict():\n",
    "    client = request.get_json()\n",
    "    X = dv.transform([client])\n",
    "    proba = model.predict_proba(X)[0, 1]\n",
    "    result = {\"probability\": proba}\n",
    "    return jsonify(result)"
   ]
  },
  {
   "cell_type": "code",
   "execution_count": null,
   "id": "83424867-fa37-42ee-8c3b-1aa2d1455d4d",
   "metadata": {},
   "outputs": [
    {
     "name": "stdout",
     "output_type": "stream",
     "text": [
      " * Serving Flask app '__main__'\n",
      " * Debug mode: off\n"
     ]
    },
    {
     "name": "stderr",
     "output_type": "stream",
     "text": [
      "WARNING: This is a development server. Do not use it in a production deployment. Use a production WSGI server instead.\n",
      " * Running on all addresses (0.0.0.0)\n",
      " * Running on http://127.0.0.1:9696\n",
      " * Running on http://192.168.2.11:9696\n",
      "Press CTRL+C to quit\n"
     ]
    }
   ],
   "source": [
    "if __name__ == \"__main__\":\n",
    "    app.run(host=\"0.0.0.0\", port=9696)"
   ]
  },
  {
   "cell_type": "code",
   "execution_count": null,
   "id": "d3c031ea-15f4-428f-9962-2a65902d35b9",
   "metadata": {},
   "outputs": [],
   "source": []
  },
  {
   "cell_type": "code",
   "execution_count": null,
   "id": "befa43ee-1ff9-4008-aa42-b28d83ceb5b0",
   "metadata": {},
   "outputs": [],
   "source": []
  },
  {
   "cell_type": "code",
   "execution_count": null,
   "id": "bd3c0696-8e74-4642-a064-3ebf1bd24a22",
   "metadata": {},
   "outputs": [],
   "source": []
  }
 ],
 "metadata": {
  "kernelspec": {
   "display_name": "Python 3 (ipykernel)",
   "language": "python",
   "name": "python3"
  },
  "language_info": {
   "codemirror_mode": {
    "name": "ipython",
    "version": 3
   },
   "file_extension": ".py",
   "mimetype": "text/x-python",
   "name": "python",
   "nbconvert_exporter": "python",
   "pygments_lexer": "ipython3",
   "version": "3.12.6"
  }
 },
 "nbformat": 4,
 "nbformat_minor": 5
}
