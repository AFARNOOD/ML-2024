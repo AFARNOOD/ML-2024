{
 "cells": [
  {
   "cell_type": "code",
   "execution_count": 22,
   "id": "3d1c0c54-a240-4f85-84c2-af5a479bb985",
   "metadata": {},
   "outputs": [],
   "source": [
    "import re\n",
    "import pandas as pd\n",
    "import numpy as np\n",
    "import urllib.request\n",
    "import zipfile\n",
    "import urllib.request\n",
    "import os\n",
    "from sklearn.model_selection import train_test_split\n",
    "from sklearn.linear_model import LinearRegression\n",
    "from sklearn.linear_model import Ridge\n",
    "from sklearn.metrics import mean_squared_error\n",
    "from sklearn.metrics import roc_auc_score\n",
    "from sklearn.metrics import accuracy_score\n",
    "from sklearn.feature_extraction import DictVectorizer\n",
    "from sklearn.linear_model import LogisticRegression, Ridge\n",
    "from sklearn.model_selection import train_test_split\n",
    "from sklearn.metrics import mutual_info_score, accuracy_score, mean_squared_error\n",
    "import matplotlib.pyplot as plt\n",
    "import seaborn as sns\n",
    "%matplotlib inline"
   ]
  },
  {
   "cell_type": "code",
   "execution_count": 23,
   "id": "c3101dbd-10ab-4a91-8f5d-0d73a016d30b",
   "metadata": {
    "scrolled": true
   },
   "outputs": [],
   "source": [
    "import warnings\n",
    "warnings.filterwarnings(\"ignore\")"
   ]
  },
  {
   "cell_type": "code",
   "execution_count": 24,
   "id": "af52c76b-f730-4553-ab74-000bca19bca3",
   "metadata": {},
   "outputs": [
    {
     "data": {
      "text/plain": [
       "('bank_marketing.zip', <http.client.HTTPMessage at 0x28813b7d550>)"
      ]
     },
     "execution_count": 24,
     "metadata": {},
     "output_type": "execute_result"
    }
   ],
   "source": [
    "url = 'https://archive.ics.uci.edu/static/public/222/bank+marketing.zip'\n",
    "urllib.request.urlretrieve(url, 'bank_marketing.zip')"
   ]
  },
  {
   "cell_type": "code",
   "execution_count": 25,
   "id": "2b75b02b-a3f6-47b0-885e-e1884789dc6a",
   "metadata": {},
   "outputs": [],
   "source": [
    "with zipfile.ZipFile('bank_marketing.zip', 'r') as zip_ref:\n",
    "    zip_ref.extractall()"
   ]
  },
  {
   "cell_type": "code",
   "execution_count": 26,
   "id": "9f24186a-2ccd-422b-a5f1-24c246e74fe5",
   "metadata": {},
   "outputs": [],
   "source": [
    "with zipfile.ZipFile('bank.zip', 'r') as zip_ref:\n",
    "    zip_ref.extractall()"
   ]
  },
  {
   "cell_type": "code",
   "execution_count": 27,
   "id": "7e167550-1bd3-4c42-8a1b-49f5180ee991",
   "metadata": {},
   "outputs": [
    {
     "data": {
      "text/html": [
       "<div>\n",
       "<style scoped>\n",
       "    .dataframe tbody tr th:only-of-type {\n",
       "        vertical-align: middle;\n",
       "    }\n",
       "\n",
       "    .dataframe tbody tr th {\n",
       "        vertical-align: top;\n",
       "    }\n",
       "\n",
       "    .dataframe thead th {\n",
       "        text-align: right;\n",
       "    }\n",
       "</style>\n",
       "<table border=\"1\" class=\"dataframe\">\n",
       "  <thead>\n",
       "    <tr style=\"text-align: right;\">\n",
       "      <th></th>\n",
       "      <th>age</th>\n",
       "      <th>job</th>\n",
       "      <th>marital</th>\n",
       "      <th>education</th>\n",
       "      <th>default</th>\n",
       "      <th>balance</th>\n",
       "      <th>housing</th>\n",
       "      <th>loan</th>\n",
       "      <th>contact</th>\n",
       "      <th>day</th>\n",
       "      <th>month</th>\n",
       "      <th>duration</th>\n",
       "      <th>campaign</th>\n",
       "      <th>pdays</th>\n",
       "      <th>previous</th>\n",
       "      <th>poutcome</th>\n",
       "      <th>y</th>\n",
       "    </tr>\n",
       "  </thead>\n",
       "  <tbody>\n",
       "    <tr>\n",
       "      <th>0</th>\n",
       "      <td>58</td>\n",
       "      <td>management</td>\n",
       "      <td>married</td>\n",
       "      <td>tertiary</td>\n",
       "      <td>no</td>\n",
       "      <td>2143</td>\n",
       "      <td>yes</td>\n",
       "      <td>no</td>\n",
       "      <td>unknown</td>\n",
       "      <td>5</td>\n",
       "      <td>may</td>\n",
       "      <td>261</td>\n",
       "      <td>1</td>\n",
       "      <td>-1</td>\n",
       "      <td>0</td>\n",
       "      <td>unknown</td>\n",
       "      <td>no</td>\n",
       "    </tr>\n",
       "    <tr>\n",
       "      <th>1</th>\n",
       "      <td>44</td>\n",
       "      <td>technician</td>\n",
       "      <td>single</td>\n",
       "      <td>secondary</td>\n",
       "      <td>no</td>\n",
       "      <td>29</td>\n",
       "      <td>yes</td>\n",
       "      <td>no</td>\n",
       "      <td>unknown</td>\n",
       "      <td>5</td>\n",
       "      <td>may</td>\n",
       "      <td>151</td>\n",
       "      <td>1</td>\n",
       "      <td>-1</td>\n",
       "      <td>0</td>\n",
       "      <td>unknown</td>\n",
       "      <td>no</td>\n",
       "    </tr>\n",
       "    <tr>\n",
       "      <th>2</th>\n",
       "      <td>33</td>\n",
       "      <td>entrepreneur</td>\n",
       "      <td>married</td>\n",
       "      <td>secondary</td>\n",
       "      <td>no</td>\n",
       "      <td>2</td>\n",
       "      <td>yes</td>\n",
       "      <td>yes</td>\n",
       "      <td>unknown</td>\n",
       "      <td>5</td>\n",
       "      <td>may</td>\n",
       "      <td>76</td>\n",
       "      <td>1</td>\n",
       "      <td>-1</td>\n",
       "      <td>0</td>\n",
       "      <td>unknown</td>\n",
       "      <td>no</td>\n",
       "    </tr>\n",
       "    <tr>\n",
       "      <th>3</th>\n",
       "      <td>47</td>\n",
       "      <td>blue-collar</td>\n",
       "      <td>married</td>\n",
       "      <td>unknown</td>\n",
       "      <td>no</td>\n",
       "      <td>1506</td>\n",
       "      <td>yes</td>\n",
       "      <td>no</td>\n",
       "      <td>unknown</td>\n",
       "      <td>5</td>\n",
       "      <td>may</td>\n",
       "      <td>92</td>\n",
       "      <td>1</td>\n",
       "      <td>-1</td>\n",
       "      <td>0</td>\n",
       "      <td>unknown</td>\n",
       "      <td>no</td>\n",
       "    </tr>\n",
       "    <tr>\n",
       "      <th>4</th>\n",
       "      <td>33</td>\n",
       "      <td>unknown</td>\n",
       "      <td>single</td>\n",
       "      <td>unknown</td>\n",
       "      <td>no</td>\n",
       "      <td>1</td>\n",
       "      <td>no</td>\n",
       "      <td>no</td>\n",
       "      <td>unknown</td>\n",
       "      <td>5</td>\n",
       "      <td>may</td>\n",
       "      <td>198</td>\n",
       "      <td>1</td>\n",
       "      <td>-1</td>\n",
       "      <td>0</td>\n",
       "      <td>unknown</td>\n",
       "      <td>no</td>\n",
       "    </tr>\n",
       "  </tbody>\n",
       "</table>\n",
       "</div>"
      ],
      "text/plain": [
       "   age           job  marital  education default  balance housing loan  \\\n",
       "0   58    management  married   tertiary      no     2143     yes   no   \n",
       "1   44    technician   single  secondary      no       29     yes   no   \n",
       "2   33  entrepreneur  married  secondary      no        2     yes  yes   \n",
       "3   47   blue-collar  married    unknown      no     1506     yes   no   \n",
       "4   33       unknown   single    unknown      no        1      no   no   \n",
       "\n",
       "   contact  day month  duration  campaign  pdays  previous poutcome   y  \n",
       "0  unknown    5   may       261         1     -1         0  unknown  no  \n",
       "1  unknown    5   may       151         1     -1         0  unknown  no  \n",
       "2  unknown    5   may        76         1     -1         0  unknown  no  \n",
       "3  unknown    5   may        92         1     -1         0  unknown  no  \n",
       "4  unknown    5   may       198         1     -1         0  unknown  no  "
      ]
     },
     "execution_count": 27,
     "metadata": {},
     "output_type": "execute_result"
    }
   ],
   "source": [
    "data = pd.read_csv('bank-full.csv', sep=';')\n",
    "data.head() "
   ]
  },
  {
   "cell_type": "code",
   "execution_count": 28,
   "id": "00ff99c5-4668-4284-9826-bb219cbc6844",
   "metadata": {},
   "outputs": [],
   "source": [
    "# Select only the required columns\n",
    "features = [\n",
    "    'age', 'job', 'marital', 'education', 'balance', 'housing', 'contact',\n",
    "    'day', 'month', 'duration', 'campaign', 'pdays', 'previous', 'poutcome', 'y'\n",
    "]\n",
    "data = data[features]\n",
    "\n",
    "# Convert the target variable 'y' to binary (1 for 'yes', 0 for 'no')\n",
    "data['y'] = (data['y'] == 'yes').astype(int)\n",
    "\n",
    "# Split the data into train, validation, and test sets (60%/20%/20%)\n",
    "SEED = 1\n",
    "df_full_train, df_test = train_test_split(data, test_size=0.2, random_state=SEED)\n",
    "df_train, df_val = train_test_split(df_full_train, test_size=0.25, random_state=SEED)  # 0.25 of 80% = 20%\n",
    "\n",
    "# Split target variable\n",
    "y_train = df_train['y'].values\n",
    "y_val = df_val['y'].values\n",
    "y_test = df_test['y'].values\n",
    "\n",
    "# Remove the target column from the feature sets\n",
    "df_train = df_train.drop('y', axis=1)\n",
    "df_val = df_val.drop('y', axis=1)\n",
    "df_test = df_test.drop('y', axis=1)"
   ]
  },
  {
   "cell_type": "code",
   "execution_count": 29,
   "id": "3adb6f6a-9955-4dd1-918f-84d1a419d467",
   "metadata": {},
   "outputs": [
    {
     "name": "stdout",
     "output_type": "stream",
     "text": [
      "{'balance': np.float64(0.5888313805382317), 'day': np.float64(0.525957882383908), 'duration': np.float64(0.8147002759670778), 'previous': np.float64(0.5985653242764153)}\n",
      "The numerical feature with the highest AUC is: duration\n"
     ]
    }
   ],
   "source": [
    "from sklearn.metrics import roc_auc_score\n",
    "\n",
    "# List of numerical features\n",
    "numerical_features = ['balance', 'day', 'duration', 'previous']\n",
    "\n",
    "# Initialize a dictionary to store AUC values\n",
    "auc_scores = {}\n",
    "\n",
    "# Compute AUC for each numerical feature\n",
    "for feature in numerical_features:\n",
    "    # Calculate the AUC score\n",
    "    auc = roc_auc_score(y_train, df_train[feature])\n",
    "    \n",
    "    # If AUC is less than 0.5, invert the feature\n",
    "    if auc < 0.5:\n",
    "        auc = roc_auc_score(y_train, -df_train[feature])\n",
    "    \n",
    "    # Store the AUC score\n",
    "    auc_scores[feature] = auc\n",
    "\n",
    "# Find the feature with the highest AUC\n",
    "highest_auc_feature = max(auc_scores, key=auc_scores.get)\n",
    "\n",
    "# Print AUC scores and the feature with the highest AUC\n",
    "print(auc_scores)\n",
    "print(f'The numerical feature with the highest AUC is: {highest_auc_feature}')\n"
   ]
  },
  {
   "cell_type": "markdown",
   "id": "d0e39425-3380-428c-836d-ae44d6ddc78c",
   "metadata": {},
   "source": [
    "### Q.2"
   ]
  },
  {
   "cell_type": "code",
   "execution_count": 30,
   "id": "2923ef2e-9fa0-4d91-bcf9-1e96a76e6f9c",
   "metadata": {},
   "outputs": [
    {
     "name": "stdout",
     "output_type": "stream",
     "text": [
      "AUC on the validation dataset: 0.901\n"
     ]
    }
   ],
   "source": [
    "from sklearn.feature_extraction import DictVectorizer\n",
    "from sklearn.linear_model import LogisticRegression\n",
    "from sklearn.metrics import roc_auc_score\n",
    "\n",
    "# Convert training and validation data to dictionary format for DictVectorizer\n",
    "train_dict = df_train.to_dict(orient='records')\n",
    "val_dict = df_val.to_dict(orient='records')\n",
    "\n",
    "# Initialize DictVectorizer and transform the datasets\n",
    "dv = DictVectorizer(sparse=False)\n",
    "X_train = dv.fit_transform(train_dict)\n",
    "X_val = dv.transform(val_dict)\n",
    "\n",
    "# Train the logistic regression model\n",
    "model = LogisticRegression(solver='liblinear', C=1.0, max_iter=1000, random_state=1)\n",
    "model.fit(X_train, y_train)\n",
    "\n",
    "# Make predictions on the validation set (use predict_proba to get probabilities)\n",
    "y_pred_val = model.predict_proba(X_val)[:, 1]\n",
    "\n",
    "# Calculate the AUC score\n",
    "auc_val = roc_auc_score(y_val, y_pred_val)\n",
    "\n",
    "# Round the AUC score to 3 decimal places\n",
    "auc_val_rounded = round(auc_val, 3)\n",
    "\n",
    "print(f'AUC on the validation dataset: {auc_val_rounded}')\n"
   ]
  },
  {
   "cell_type": "markdown",
   "id": "afae313d-b419-4f5e-a27b-71828f138cbc",
   "metadata": {},
   "source": [
    "### Q.3"
   ]
  },
  {
   "cell_type": "code",
   "execution_count": 31,
   "id": "b99edad1-2ffb-41ec-8697-b9c692e68761",
   "metadata": {},
   "outputs": [
    {
     "data": {
      "image/png": "[encoded data removed]",
      "text/plain": [
       "<Figure size 640x480 with 1 Axes>"
      ]
     },
     "metadata": {},
     "output_type": "display_data"
    },
    {
     "name": "stdout",
     "output_type": "stream",
     "text": [
      "Precision and Recall curves intersect at threshold: 1.000\n"
     ]
    }
   ],
   "source": [
    "import numpy as np\n",
    "import matplotlib.pyplot as plt\n",
    "from sklearn.metrics import precision_score, recall_score\n",
    "\n",
    "# Use the predicted probabilities on the validation set from the logistic regression model\n",
    "y_pred_proba = model.predict_proba(X_val)[:, 1]\n",
    "\n",
    "# Create lists to store precision and recall for each threshold\n",
    "thresholds = np.arange(0.0, 1.01, 0.01)\n",
    "precisions = []\n",
    "recalls = []\n",
    "\n",
    "# Loop through the thresholds\n",
    "for t in thresholds:\n",
    "    # Predict the labels based on the threshold\n",
    "    y_pred_threshold = (y_pred_proba >= t).astype(int)\n",
    "    \n",
    "    # Calculate precision and recall\n",
    "    precision = precision_score(y_val, y_pred_threshold)\n",
    "    recall = recall_score(y_val, y_pred_threshold)\n",
    "    \n",
    "    # Store precision and recall\n",
    "    precisions.append(precision)\n",
    "    recalls.append(recall)\n",
    "\n",
    "# Convert lists to numpy arrays for plotting\n",
    "precisions = np.array(precisions)\n",
    "recalls = np.array(recalls)\n",
    "\n",
    "# Plot precision and recall curves\n",
    "plt.plot(thresholds, precisions, label='Precision')\n",
    "plt.plot(thresholds, recalls, label='Recall')\n",
    "plt.xlabel('Threshold')\n",
    "plt.ylabel('Score')\n",
    "plt.title('Precision-Recall Curve')\n",
    "plt.legend()\n",
    "plt.grid(True)\n",
    "plt.show()\n",
    "\n",
    "# Find the intersection point (where precision is closest to recall)\n",
    "intersection_idx = np.argmin(np.abs(precisions - recalls))\n",
    "intersection_threshold = thresholds[intersection_idx]\n",
    "\n",
    "print(f'Precision and Recall curves intersect at threshold: {intersection_threshold:.3f}')\n"
   ]
  },
  {
   "cell_type": "markdown",
   "id": "410bd06e-4f46-4380-bf68-578b844aa795",
   "metadata": {},
   "source": [
    "### Q.4"
   ]
  },
  {
   "cell_type": "code",
   "execution_count": 32,
   "id": "05251ee6-23cc-4817-ba1b-1cd23f806fda",
   "metadata": {},
   "outputs": [
    {
     "name": "stdout",
     "output_type": "stream",
     "text": [
      "Threshold with maximum F1 score: 0.22\n"
     ]
    }
   ],
   "source": [
    "import numpy as np\n",
    "from sklearn.metrics import precision_score, recall_score\n",
    "\n",
    "# Use the predicted probabilities on the validation set from the logistic regression model\n",
    "y_pred_proba = model.predict_proba(X_val)[:, 1]\n",
    "\n",
    "# Create lists to store F1 scores and thresholds\n",
    "thresholds = np.arange(0.0, 1.01, 0.01)\n",
    "f1_scores = []\n",
    "\n",
    "# Loop through the thresholds\n",
    "for t in thresholds:\n",
    "    # Predict the labels based on the threshold\n",
    "    y_pred_threshold = (y_pred_proba >= t).astype(int)\n",
    "    \n",
    "    # Calculate precision and recall\n",
    "    precision = precision_score(y_val, y_pred_threshold)\n",
    "    recall = recall_score(y_val, y_pred_threshold)\n",
    "    \n",
    "    # Calculate F1 score using the formula\n",
    "    if precision + recall > 0:\n",
    "        f1 = 2 * (precision * recall) / (precision + recall)\n",
    "    else:\n",
    "        f1 = 0\n",
    "    \n",
    "    # Store the F1 score\n",
    "    f1_scores.append(f1)\n",
    "\n",
    "# Convert F1 scores to numpy array for easier handling\n",
    "f1_scores = np.array(f1_scores)\n",
    "\n",
    "# Find the threshold with the maximum F1 score\n",
    "max_f1_idx = np.argmax(f1_scores)\n",
    "max_f1_threshold = thresholds[max_f1_idx]\n",
    "\n",
    "# Output the threshold with the maximum F1 score\n",
    "print(f'Threshold with maximum F1 score: {max_f1_threshold:.2f}')\n"
   ]
  },
  {
   "cell_type": "markdown",
   "id": "b1361251-9864-4bdd-b940-ab1c063eb7bf",
   "metadata": {},
   "source": [
    "### Q.5"
   ]
  },
  {
   "cell_type": "code",
   "execution_count": 33,
   "id": "0312367e-9c56-4d55-8d80-f963115058b9",
   "metadata": {},
   "outputs": [
    {
     "name": "stdout",
     "output_type": "stream",
     "text": [
      "Standard deviation of AUC scores across folds: 0.005691\n"
     ]
    }
   ],
   "source": [
    "from sklearn.model_selection import KFold\n",
    "from sklearn.linear_model import LogisticRegression\n",
    "from sklearn.feature_extraction import DictVectorizer\n",
    "from sklearn.metrics import roc_auc_score\n",
    "import numpy as np\n",
    "\n",
    "# Initialize KFold with 5 splits\n",
    "kf = KFold(n_splits=5, shuffle=True, random_state=1)\n",
    "\n",
    "# Initialize a list to store AUC scores for each fold\n",
    "auc_scores = []\n",
    "\n",
    "# Iterate over each fold\n",
    "for train_idx, val_idx in kf.split(df_full_train):\n",
    "    # Split the data into training and validation sets\n",
    "    df_train_fold = df_full_train.iloc[train_idx]\n",
    "    df_val_fold = df_full_train.iloc[val_idx]\n",
    "    \n",
    "    # Separate the target variable\n",
    "    y_train_fold = df_train_fold['y'].values\n",
    "    y_val_fold = df_val_fold['y'].values\n",
    "    df_train_fold = df_train_fold.drop('y', axis=1)\n",
    "    df_val_fold = df_val_fold.drop('y', axis=1)\n",
    "    \n",
    "    # Apply one-hot encoding using DictVectorizer\n",
    "    dv = DictVectorizer(sparse=False)\n",
    "    train_dict = df_train_fold.to_dict(orient='records')\n",
    "    val_dict = df_val_fold.to_dict(orient='records')\n",
    "    \n",
    "    X_train_fold = dv.fit_transform(train_dict)\n",
    "    X_val_fold = dv.transform(val_dict)\n",
    "    \n",
    "    # Train the logistic regression model\n",
    "    model = LogisticRegression(solver='liblinear', C=1.0, max_iter=1000)\n",
    "    model.fit(X_train_fold, y_train_fold)\n",
    "    \n",
    "    # Predict probabilities on the validation set\n",
    "    y_pred_val_fold = model.predict_proba(X_val_fold)[:, 1]\n",
    "    \n",
    "    # Calculate the AUC score\n",
    "    auc = roc_auc_score(y_val_fold, y_pred_val_fold)\n",
    "    \n",
    "    # Append the AUC score to the list\n",
    "    auc_scores.append(auc)\n",
    "\n",
    "# Convert auc_scores to a numpy array for easier calculation\n",
    "auc_scores = np.array(auc_scores)\n",
    "\n",
    "# Calculate the standard deviation of the AUC scores\n",
    "std_auc = np.std(auc_scores)\n",
    "\n",
    "# Print the standard deviation of AUC scores\n",
    "print(f'Standard deviation of AUC scores across folds: {std_auc:.6f}')\n"
   ]
  },
  {
   "cell_type": "markdown",
   "id": "e4aab9b6-4723-4032-80f5-5faa3acd0c1c",
   "metadata": {},
   "source": [
    "### Q.6"
   ]
  },
  {
   "cell_type": "code",
   "execution_count": 35,
   "id": "94db43f2-4ac5-4a98-bd75-0f153e110f8f",
   "metadata": {},
   "outputs": [],
   "source": [
    "from sklearn.model_selection import KFold\n",
    "from sklearn.linear_model import LogisticRegression\n",
    "from sklearn.feature_extraction import DictVectorizer\n",
    "from sklearn.metrics import roc_auc_score\n",
    "import numpy as np\n",
    "\n",
    "# List of C values to iterate over\n",
    "C_values = [0.000001, 0.001, 1]\n",
    "\n",
    "# Initialize KFold with 5 splits\n",
    "kf = KFold(n_splits=5, shuffle=True, random_state=1)\n",
    "\n",
    "# Initialize a dictionary to store mean and std for each C value\n",
    "scores_summary = {}"
   ]
  },
  {
   "cell_type": "code",
   "execution_count": 36,
   "id": "60407b30-482a-40ab-997c-908d2a5cc3a5",
   "metadata": {},
   "outputs": [],
   "source": [
    "# Iterate over each C value\n",
    "for C in C_values:\n",
    "    auc_scores = []\n",
    "    \n",
    "    # Perform cross-validation\n",
    "    for train_idx, val_idx in kf.split(df_full_train):\n",
    "        # Split the data into training and validation sets\n",
    "        df_train_fold = df_full_train.iloc[train_idx]\n",
    "        df_val_fold = df_full_train.iloc[val_idx]\n",
    "        \n",
    "        # Separate the target variable\n",
    "        y_train_fold = df_train_fold['y'].values\n",
    "        y_val_fold = df_val_fold['y'].values\n",
    "        df_train_fold = df_train_fold.drop('y', axis=1)\n",
    "        df_val_fold = df_val_fold.drop('y', axis=1)\n",
    "        \n",
    "        # Apply one-hot encoding using DictVectorizer\n",
    "        dv = DictVectorizer(sparse=False)\n",
    "        train_dict = df_train_fold.to_dict(orient='records')\n",
    "        val_dict = df_val_fold.to_dict(orient='records')\n",
    "        \n",
    "        X_train_fold = dv.fit_transform(train_dict)\n",
    "        X_val_fold = dv.transform(val_dict)\n",
    "        \n",
    "        # Train the logistic regression model with current C\n",
    "        model = LogisticRegression(solver='liblinear', C=C, max_iter=1000)\n",
    "        model.fit(X_train_fold, y_train_fold)\n",
    "        \n",
    "        # Predict probabilities on the validation set\n",
    "        y_pred_val_fold = model.predict_proba(X_val_fold)[:, 1]\n",
    "        \n",
    "        # Calculate the AUC score\n",
    "        auc = roc_auc_score(y_val_fold, y_pred_val_fold)\n",
    "        \n",
    "        # Append the AUC score to the list\n",
    "        auc_scores.append(auc)\n",
    "    \n",
    "    # Compute mean and std of AUC scores for current C\n",
    "    mean_auc = np.mean(auc_scores)\n",
    "    std_auc = np.std(auc_scores)\n",
    "    \n",
    "    # Store mean and std in the dictionary\n",
    "    scores_summary[C] = (round(mean_auc, 3), round(std_auc, 3))\n"
   ]
  },
  {
   "cell_type": "code",
   "execution_count": 37,
   "id": "40db3763-5bc2-4e3c-9764-7f35e0aeb1df",
   "metadata": {},
   "outputs": [
    {
     "name": "stdout",
     "output_type": "stream",
     "text": [
      "C=1e-06: Mean AUC=0.701, Std AUC=0.009\n",
      "C=0.001: Mean AUC=0.861, Std AUC=0.007\n",
      "C=1: Mean AUC=0.906, Std AUC=0.006\n",
      "The best C is: 1\n"
     ]
    }
   ],
   "source": [
    "# Print the results\n",
    "for C, (mean_auc, std_auc) in scores_summary.items():\n",
    "    print(f'C={C}: Mean AUC={mean_auc}, Std AUC={std_auc}')\n",
    "\n",
    "# Find the C with the best mean AUC score\n",
    "best_C = min(scores_summary, key=lambda x: (-scores_summary[x][0], scores_summary[x][1]))\n",
    "\n",
    "print(f'The best C is: {best_C}')"
   ]
  },
  {
   "cell_type": "code",
   "execution_count": null,
   "id": "62a416fd-f823-4ce1-8287-61e49ed0c73d",
   "metadata": {},
   "outputs": [],
   "source": []
  }
 ],
 "metadata": {
  "kernelspec": {
   "display_name": "Python 3 (ipykernel)",
   "language": "python",
   "name": "python3"
  },
  "language_info": {
   "codemirror_mode": {
    "name": "ipython",
    "version": 3
   },
   "file_extension": ".py",
   "mimetype": "text/x-python",
   "name": "python",
   "nbconvert_exporter": "python",
   "pygments_lexer": "ipython3",
   "version": "3.12.6"
  }
 },
 "nbformat": 4,
 "nbformat_minor": 5
}
